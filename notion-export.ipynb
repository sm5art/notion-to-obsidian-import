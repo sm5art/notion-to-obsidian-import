{
 "cells": [
  {
   "cell_type": "code",
   "execution_count": 1,
   "metadata": {},
   "outputs": [],
   "source": [
    "# there is a folder containing many markdowns included in this project, from the notion export tool within the app\n",
    "# i unzipped the folder from the export zip and noticed many markdown files and csvs.\n",
    "# markdown files can be interpreted by obsidian and these are ok\n",
    "# we need to take any csv and interpret them as kanbans or normal databases and transform them to the like md format\n",
    "\n",
    "folder_name = \"Export/\""
   ]
  },
  {
   "cell_type": "code",
   "execution_count": 2,
   "metadata": {},
   "outputs": [],
   "source": [
    "import os\n",
    "\n",
    "all_files = []\n",
    "# get all files in folder_name, recursively fetching folders\n",
    "for root, dirs, files in os.walk(folder_name):\n",
    "    for file in files:\n",
    "        all_files.append(os.path.join(root, file))\n"
   ]
  },
  {
   "cell_type": "code",
   "execution_count": 3,
   "metadata": {},
   "outputs": [
    {
     "name": "stdout",
     "output_type": "stream",
     "text": [
      "Transformed filename: Export/Shopping list.md\n"
     ]
    }
   ],
   "source": [
    "\n",
    "\n",
    "# write some code to take out the base64 part of the string here 'Export/Shopping list e13fd190156844ab97bd073788776b29.md'\n",
    "import re\n",
    "\n",
    "def transform_filename(filename):\n",
    "    pattern = re.compile(r'([^\\/]+) [a-zA-Z0-9]{32}(?=\\/|\\.)')\n",
    "    \n",
    "    # Substitute the matched pattern with the desired format\n",
    "    transformed_filename = pattern.sub(r'\\1', filename)\n",
    "    \n",
    "    return transformed_filename\n",
    "\n",
    "filename = 'Export/Shopping list e13fd190156844ab97bd073788776b29.md'\n",
    "transformed_filename = transform_filename(filename)\n",
    "\n",
    "print(f\"Transformed filename: {transformed_filename}\")\n",
    "\n",
    "# filter out any _all.csv ending in files since they are dupes\n",
    "filtered_files = [file for file in all_files if not file.endswith('_all.csv')]\n"
   ]
  },
  {
   "cell_type": "code",
   "execution_count": 4,
   "metadata": {},
   "outputs": [],
   "source": [
    "import re\n",
    "\n",
    "\n",
    "def transform_string_md(content):\n",
    "    pattern = re.compile(r'([^\\/]+)%20[a-zA-Z0-9]{32}(?=\\/|\\.)', re.MULTILINE)\n",
    "    \n",
    "    # Substitute the matched pattern with the desired format\n",
    "    transformed_filename = re.sub(pattern, r'\\1', content)\n",
    "    \n",
    "    return transformed_filename\n",
    "\n",
    "def process_markdown_file(filename):\n",
    "    with open(filename, 'r', encoding='utf-8') as file:\n",
    "        content_lines = file.readlines()\n",
    "        out_content = \"\"\n",
    "        for line in content_lines:\n",
    "            transformed_content = transform_string_md(line).strip()\n",
    "            if '.csv)' in transformed_content:\n",
    "                transformed_content = transformed_content.replace('.csv)', '.md)')\n",
    "            out_content += transformed_content + \"\\n\"\n",
    "    new_filename = transform_filename(filename)\n",
    "    return out_content, new_filename"
   ]
  },
  {
   "cell_type": "code",
   "execution_count": 5,
   "metadata": {},
   "outputs": [],
   "source": [
    "import pandas as pd"
   ]
  },
  {
   "cell_type": "code",
   "execution_count": 15,
   "metadata": {},
   "outputs": [
    {
     "name": "stdout",
     "output_type": "stream",
     "text": [
      "All columns are present for a kanban board\n",
      "All columns are present for a kanban board\n",
      "All columns are present for a kanban board\n",
      "All columns are present for a kanban board\n",
      " This is a normal database csv lets iterpret as a markdown csv\n",
      " This is a normal database csv lets iterpret as a markdown csv\n",
      " This is a normal database csv lets iterpret as a markdown csv\n",
      " This is a normal database csv lets iterpret as a markdown csv\n",
      " This is a normal database csv lets iterpret as a markdown csv\n",
      " This is a normal database csv lets iterpret as a markdown csv\n",
      " This is a normal database csv lets iterpret as a markdown csv\n",
      " This is a normal database csv lets iterpret as a markdown csv\n",
      " This is a normal database csv lets iterpret as a markdown csv\n",
      " This is a normal database csv lets iterpret as a markdown csv\n",
      " This is a normal database csv lets iterpret as a markdown csv\n",
      "All columns are present for a kanban board\n",
      " This is a normal database csv lets iterpret as a markdown csv\n",
      " This is a normal database csv lets iterpret as a markdown csv\n",
      " This is a normal database csv lets iterpret as a markdown csv\n",
      " This is a normal database csv lets iterpret as a markdown csv\n"
     ]
    }
   ],
   "source": [
    "i=0\n",
    "kanban_csv_columns = [\"Name\", \"Assign\", \"Status\"]\n",
    "kanban_intro_format = \"\"\"---\n",
    "\n",
    "kanban-plugin: board\n",
    "\n",
    "---\n",
    "\"\"\"\n",
    "kanban_outro = \"\"\"\n",
    "%% kanban:settings\n",
    "```\n",
    "{\"kanban-plugin\":\"board\",\"list-collapse\":[false,false,false]}\n",
    "```\n",
    "%%\"\"\"\n",
    "# function to process kanban style csv, has columns \"Name\" \"Assign\" and \"Status\"\n",
    "# Goal is to transform from csv format into md format matching Kanban style in Obsidian (plugin)\n",
    "def process_kanban_csv(df, file):\n",
    "    unique_statuses = list(df['Status'].unique())\n",
    "    #print(unique_statuses)\n",
    "    \n",
    "    # remove filename extension .csv from file\n",
    "    base_without_ext = file[:-4]\n",
    "    #print(base_without_ext)\n",
    "    middle= \"\"\n",
    "    status_format = \"\\n## {status}\\n\"\n",
    "\n",
    "    for status in unique_statuses:\n",
    "        sub_df = df[df[\"Status\"] == status]\n",
    "        names = list(sub_df['Name'])\n",
    "        # drop filename from file\n",
    "        middle += f\"{status_format}\".format(status=status)\n",
    "        for name in names:\n",
    "            processed_name = name.replace('/', ' ').replace(\"?\", \" \").replace(\"  \",\" \")[:50]\n",
    "            filename_for_task = transform_filename(f\"{base_without_ext}/{processed_name}.md\")\n",
    "            middle += f\"- [ ] [[{filename_for_task}|{name}]]\\n\"\n",
    "        \n",
    "\n",
    "    return kanban_intro_format + middle + kanban_outro\n",
    "\n",
    "\n",
    "def process_database_csv(df):\n",
    "    \"\"\"Formatting df as markdown database\n",
    "    | Name    | Age | City          |     |     |\n",
    "    | ------- | --- | ------------- | --- | --- |\n",
    "    | Alice   | 30  | New York      |     |     |\n",
    "    | Bob     | 25  | San Francisco |     |     |\n",
    "    | Charlie | 35  | Los Angeles   |     |     |\n",
    "    |         |     |               |     |     |\n",
    "    \"\"\"\n",
    "    return df.to_markdown()\n",
    "\n",
    "\n",
    "TRANSFORMED_PREFIX = 'Transformed/'\n",
    "\n",
    "for file in filtered_files:\n",
    "    if file.endswith('.csv'):\n",
    "        #print(\"CSV FILE: \"+ file)\n",
    "        df = pd.read_csv(file)\n",
    "        cols = df.columns\n",
    "        # check if kanban_csv_columns are in cols\n",
    "        if all(elem in cols for elem in kanban_csv_columns):\n",
    "            print(\"All columns are present for a kanban board\")\n",
    "            out_content = process_kanban_csv(df, file)\n",
    "            #with open(transformed_filename, )\n",
    "            #print(\"TRANSFORMED INTO \" + transformed_filename)\n",
    "        else:\n",
    "            print(\" This is a normal database csv lets iterpret as a markdown csv\")\n",
    "            out_content = process_database_csv(df)\n",
    "        transformed_filename = transform_filename(file)\n",
    "        transformed_filename = TRANSFORMED_PREFIX+ transformed_filename.replace('.csv', '.md')\n",
    "        # Get the directory path from the file path\n",
    "        directory = os.path.dirname(transformed_filename)\n",
    "        \n",
    "        # Create the directory and any parent directories if they don't exist\n",
    "        os.makedirs(directory, exist_ok=True)\n",
    "        with open(transformed_filename, \"w+\") as f:\n",
    "            f.write(out_content)\n",
    "\n",
    "\n",
    "    # if file is md file\n",
    "    if file.endswith('.md'):\n",
    "        #print(\"MD File: \" + file)\n",
    "        out_content, new_filename = process_markdown_file(file)\n",
    "        new_filename_with_base = TRANSFORMED_PREFIX+new_filename\n",
    "            # Get the directory path from the file path\n",
    "        directory = os.path.dirname(new_filename_with_base)\n",
    "        \n",
    "        # Create the directory and any parent directories if they don't exist\n",
    "        os.makedirs(directory, exist_ok=True)\n",
    "        with open(new_filename_with_base, \"w+\") as f:\n",
    "            f.write(out_content)\n",
    "        #print(\"TRANSFORMED INTO \" + new_filename_with_base)\n",
    "        "
   ]
  },
  {
   "cell_type": "code",
   "execution_count": 7,
   "metadata": {},
   "outputs": [
    {
     "data": {
      "text/plain": [
       "50"
      ]
     },
     "execution_count": 7,
     "metadata": {},
     "output_type": "execute_result"
    }
   ],
   "source": [
    "len(\"port rest of existing loader code to use async req\")"
   ]
  },
  {
   "cell_type": "code",
   "execution_count": 7,
   "metadata": {},
   "outputs": [
    {
     "data": {
      "text/plain": [
       "50"
      ]
     },
     "execution_count": 7,
     "metadata": {},
     "output_type": "execute_result"
    }
   ],
   "source": [
    "len(\"Create dataloader price caching module to fetch fr\")"
   ]
  },
  {
   "cell_type": "code",
   "execution_count": null,
   "metadata": {},
   "outputs": [],
   "source": []
  }
 ],
 "metadata": {
  "kernelspec": {
   "display_name": "venv",
   "language": "python",
   "name": "python3"
  },
  "language_info": {
   "codemirror_mode": {
    "name": "ipython",
    "version": 3
   },
   "file_extension": ".py",
   "mimetype": "text/x-python",
   "name": "python",
   "nbconvert_exporter": "python",
   "pygments_lexer": "ipython3",
   "version": "3.9.13"
  }
 },
 "nbformat": 4,
 "nbformat_minor": 2
}
